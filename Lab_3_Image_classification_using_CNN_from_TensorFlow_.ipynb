{
  "cells": [
    {
      "cell_type": "code",
      "execution_count": null,
      "id": "36845061",
      "metadata": {
        "scrolled": true,
        "id": "36845061",
        "outputId": "efcbc80b-ffcb-4a18-ed34-b8fe1a6046c4"
      },
      "outputs": [
        {
          "name": "stdout",
          "output_type": "stream",
          "text": [
            "Epoch 1/2\n",
            "1563/1563 [==============================] - 36s 22ms/step - loss: 1.4790 - accuracy: 0.4700 - val_loss: 1.2018 - val_accuracy: 0.5792\n",
            "Epoch 2/2\n",
            "1563/1563 [==============================] - 48s 30ms/step - loss: 1.1289 - accuracy: 0.6024 - val_loss: 1.0777 - val_accuracy: 0.6295\n",
            "313/313 [==============================] - 5s 16ms/step - loss: 1.0777 - accuracy: 0.6295\n",
            "Test accuracy: 0.6294999718666077\n",
            "Available keys in model history: dict_keys(['loss', 'accuracy', 'val_loss', 'val_accuracy'])\n"
          ]
        },
        {
          "data": {
            "image/png": "[encoded data removed]",
            "text/plain": [
              "<Figure size 432x288 with 1 Axes>"
            ]
          },
          "metadata": {
            "needs_background": "light"
          },
          "output_type": "display_data"
        }
      ],
      "source": [
        "import tensorflow as tf\n",
        "from tensorflow.keras import datasets, layers, models\n",
        "import matplotlib.pyplot as plt\n",
        "\n",
        "# Load and preprocess the CIFAR-10 dataset\n",
        "(train_images, train_labels), (test_images, test_labels) = datasets.cifar10.load_data()\n",
        "train_images, test_images = train_images / 255.0, test_images / 255.0  # Normalize images\n",
        "\n",
        "# Build a simple CNN model\n",
        "model = models.Sequential([\n",
        "    layers.Conv2D(32, (3, 3), activation='relu', input_shape=(32, 32, 3)),  # Convolutional layer\n",
        "    layers.MaxPooling2D((2, 2)),  # Pooling layer\n",
        "    layers.Conv2D(64, (3, 3), activation='relu'),  # Convolutional layer\n",
        "    layers.MaxPooling2D((2, 2)),  # Pooling layer\n",
        "    layers.Flatten(),  # Flatten the output\n",
        "    layers.Dense(64, activation='relu'),  # Fully connected layer\n",
        "    layers.Dense(10)  # Output layer for 10 classes\n",
        "])\n",
        "\n",
        "# Compile the model\n",
        "model.compile(optimizer='adam',\n",
        "              loss=tf.keras.losses.SparseCategoricalCrossentropy(from_logits=True),\n",
        "              metrics=['accuracy'])\n",
        "\n",
        "# Train the model\n",
        "history = model.fit(train_images, train_labels, epochs=2, validation_data=(test_images, test_labels))\n",
        "\n",
        "# Evaluate the model\n",
        "test_loss, test_acc = model.evaluate(test_images, test_labels)\n",
        "print(f'Test accuracy: {test_acc}')\n",
        "\n",
        "# Print history keys\n",
        "print(\"Available keys in model history:\", history.history.keys())\n",
        "\n",
        "# Plot training and validation accuracy\n",
        "accuracy_key = 'accuracy' if 'accuracy' in history.history else 'acc'\n",
        "val_accuracy_key = 'val_accuracy' if 'val_accuracy' in history.history else 'val_acc'\n",
        "\n",
        "if accuracy_key in history.history and val_accuracy_key in history.history:\n",
        "    plt.plot(history.history[accuracy_key], label='Training accuracy')\n",
        "    plt.plot(history.history[val_accuracy_key], label='Validation accuracy')\n",
        "else:\n",
        "    print(f\"Keys '{accuracy_key}' or '{val_accuracy_key}' not found in history.\")\n",
        "\n",
        "plt.xlabel('Epoch')\n",
        "plt.ylabel('Accuracy')\n",
        "plt.legend(loc='lower right')\n",
        "plt.show()\n"
      ]
    },
    {
      "cell_type": "code",
      "execution_count": null,
      "id": "e0640485",
      "metadata": {
        "id": "e0640485"
      },
      "outputs": [],
      "source": []
    }
  ],
  "metadata": {
    "kernelspec": {
      "display_name": "Python 3 (ipykernel)",
      "language": "python",
      "name": "python3"
    },
    "language_info": {
      "codemirror_mode": {
        "name": "ipython",
        "version": 3
      },
      "file_extension": ".py",
      "mimetype": "text/x-python",
      "name": "python",
      "nbconvert_exporter": "python",
      "pygments_lexer": "ipython3",
      "version": "3.9.12"
    },
    "colab": {
      "provenance": []
    }
  },
  "nbformat": 4,
  "nbformat_minor": 5
}